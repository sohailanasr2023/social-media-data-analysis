{
  "nbformat": 4,
  "nbformat_minor": 0,
  "metadata": {
    "colab": {
      "private_outputs": true,
      "provenance": []
    },
    "kernelspec": {
      "name": "python3",
      "display_name": "Python 3"
    },
    "language_info": {
      "name": "python"
    }
  },
  "cells": [
    {
      "cell_type": "markdown",
      "source": [
        "# **Import Libraries**"
      ],
      "metadata": {
        "id": "TEvh5xxp-Z0p"
      }
    },
    {
      "cell_type": "code",
      "execution_count": null,
      "metadata": {
        "id": "cqUO51yoBaiq"
      },
      "outputs": [],
      "source": [
        "import pandas as pd\n",
        "import matplotlib.pyplot as plt\n",
        "import seaborn as sns"
      ]
    },
    {
      "cell_type": "markdown",
      "source": [
        "# **Read dataset**"
      ],
      "metadata": {
        "id": "l1XKgzb5-PST"
      }
    },
    {
      "cell_type": "code",
      "source": [
        "# Load the dataset\n",
        "data = pd.read_csv('/content/social_media_data.csv')"
      ],
      "metadata": {
        "id": "R6rNj9Ta-OuF"
      },
      "execution_count": null,
      "outputs": []
    },
    {
      "cell_type": "code",
      "source": [
        "data.head()"
      ],
      "metadata": {
        "id": "uG0kiVQA-V4w"
      },
      "execution_count": null,
      "outputs": []
    },
    {
      "cell_type": "markdown",
      "source": [
        "# ****Pre-processing ****"
      ],
      "metadata": {
        "id": "p_M-ShNW-ldZ"
      }
    },
    {
      "cell_type": "code",
      "source": [
        "data.info()"
      ],
      "metadata": {
        "id": "a-_yIwi8-jNp"
      },
      "execution_count": null,
      "outputs": []
    },
    {
      "cell_type": "code",
      "source": [
        "data.describe()"
      ],
      "metadata": {
        "id": "YVZip3Ek-wt_"
      },
      "execution_count": null,
      "outputs": []
    },
    {
      "cell_type": "code",
      "source": [
        "data.isnull().sum()"
      ],
      "metadata": {
        "id": "RN70-Hfx-1gP"
      },
      "execution_count": null,
      "outputs": []
    },
    {
      "cell_type": "code",
      "source": [
        "data.dropna(inplace=True)"
      ],
      "metadata": {
        "id": "eiaqWlpd_EAh"
      },
      "execution_count": null,
      "outputs": []
    },
    {
      "cell_type": "code",
      "source": [
        "data.isnull().sum()"
      ],
      "metadata": {
        "id": "aUKVGQOf_D1o"
      },
      "execution_count": null,
      "outputs": []
    },
    {
      "cell_type": "code",
      "source": [
        "data.shape"
      ],
      "metadata": {
        "id": "whGXl8Gg_AMf"
      },
      "execution_count": null,
      "outputs": []
    },
    {
      "cell_type": "code",
      "source": [
        "data.duplicated().sum()"
      ],
      "metadata": {
        "id": "aNUn0----7kX"
      },
      "execution_count": null,
      "outputs": []
    },
    {
      "cell_type": "code",
      "source": [
        "# Convert the date column to datetime format\n",
        "data['date'] = pd.to_datetime(data['date'])\n"
      ],
      "metadata": {
        "id": "CHBvGL1m_3k6"
      },
      "execution_count": null,
      "outputs": []
    },
    {
      "cell_type": "markdown",
      "source": [
        "# **What was the total number of likes, shares, comments, and views (for videos) over the year?**"
      ],
      "metadata": {
        "id": "m78ZnzRc_Vhk"
      }
    },
    {
      "cell_type": "code",
      "source": [
        "# Calculate the total number of likes, shares, comments, and views (for videos) over the year\n",
        "total_likes = data['likes'].sum()\n",
        "total_shares = data['shares'].sum()\n",
        "total_comments = data['comments'].sum()\n",
        "total_views = data[data['post_type'] == 'video']['views'].sum()\n"
      ],
      "metadata": {
        "id": "4kaHjBIl_SWH"
      },
      "execution_count": null,
      "outputs": []
    },
    {
      "cell_type": "code",
      "source": [
        "# Print the results\n",
        "print(f\"Total number of likes: {total_likes}\")\n",
        "print(f\"Total number of shares: {total_shares}\")\n",
        "print(f\"Total number of comments: {total_comments}\")\n",
        "print(f\"Total number of views (for videos): {total_views}\")"
      ],
      "metadata": {
        "id": "yqVbDUkKAIyq"
      },
      "execution_count": null,
      "outputs": []
    },
    {
      "cell_type": "code",
      "source": [
        "# Total Number of Likes, Shares, Comments, and Views\n",
        "plt.figure(figsize=(10, 6))\n",
        "plt.title('Total Engagement Metrics Over the Year')\n",
        "metrics = ['Likes', 'Shares', 'Comments', 'Views']\n",
        "values = [total_likes, total_shares, total_comments, total_views]\n",
        "plt.bar(metrics, values)\n",
        "plt.ylabel('Count')\n",
        "plt.show()"
      ],
      "metadata": {
        "id": "mZoH7ltaATQh"
      },
      "execution_count": null,
      "outputs": []
    },
    {
      "cell_type": "code",
      "source": [
        "# Calculate total engagement (engagement = likes + shares + comments)\n",
        "data['engagement'] = data['likes'] + data['shares'] + data['comments']"
      ],
      "metadata": {
        "id": "uAKn4xitAU6g"
      },
      "execution_count": null,
      "outputs": []
    },
    {
      "cell_type": "code",
      "source": [
        "# 2. Which platform had the highest engagement? (engagement = likes + shares + comments)\n",
        "data['engagement'] = data['likes'] + data['shares'] + data['comments']\n",
        "highest_engagement_platform = data.groupby('platform')['engagement'].sum().idxmax()\n",
        "print(f\"The platform with the highest engagement is: {highest_engagement_platform}\")\n"
      ],
      "metadata": {
        "id": "VezKdgPaAnnB"
      },
      "execution_count": null,
      "outputs": []
    },
    {
      "cell_type": "code",
      "source": [
        "# 3. What was the average number of likes, shares, comments, and views per post on each platform?\n",
        "platform_stats = data.groupby('platform')[['likes', 'shares', 'comments', 'views']].mean()\n",
        "print(platform_stats)"
      ],
      "metadata": {
        "id": "jWuCa2Pasj3w"
      },
      "execution_count": null,
      "outputs": []
    },
    {
      "cell_type": "code",
      "source": [
        "# 4. What was the total number of each type of post (video, image, text) on each platform?\n",
        "post_type_counts = data.groupby(['platform', 'post_type']).size().unstack(fill_value=0)\n",
        "print(post_type_counts)"
      ],
      "metadata": {
        "id": "vVSQg4fns2Cf"
      },
      "execution_count": null,
      "outputs": []
    },
    {
      "cell_type": "code",
      "source": [
        "# 5. Which type of post had the highest average engagement?\n",
        "highest_engagement_post_type = data.groupby('post_type')['engagement'].mean().idxmax()\n",
        "print(f\"The post type with the highest average engagement is: {highest_engagement_post_type}\")\n"
      ],
      "metadata": {
        "id": "Qa3kFUwps5f-"
      },
      "execution_count": null,
      "outputs": []
    },
    {
      "cell_type": "code",
      "source": [
        "# 6. What was the total engagement in each quarter of the year?\n",
        "data['quarter'] = data['date'].dt.quarter\n",
        "quarterly_engagement = data.groupby('quarter')['engagement'].sum()\n",
        "print(quarterly_engagement)"
      ],
      "metadata": {
        "id": "SKeI7quxs6Zu"
      },
      "execution_count": null,
      "outputs": []
    }
  ]
}